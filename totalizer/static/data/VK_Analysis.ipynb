{
 "cells": [
  {
   "cell_type": "markdown",
   "id": "fdb2d933",
   "metadata": {},
   "source": [
    "# Analisys of VK dataframes"
   ]
  },
  {
   "cell_type": "code",
   "execution_count": 116,
   "id": "cd2824f8",
   "metadata": {},
   "outputs": [],
   "source": [
    "import json\n",
    "import pandas as pd\n",
    "import matplotlib.pyplot as plt\n",
    "import numpy as np\n",
    "from dateutil.parser import parse"
   ]
  },
  {
   "cell_type": "markdown",
   "id": "da01eeef",
   "metadata": {},
   "source": [
    "Values in csv file are stored in json format. That is done to simplify decoding objects (i.e. dates, some infos in attach column)."
   ]
  },
  {
   "cell_type": "code",
   "execution_count": 117,
   "id": "098680f3",
   "metadata": {},
   "outputs": [],
   "source": [
    "df = pd.read_csv(\"dataframe.csv\")\n",
    "df[\"date\"] = df[\"date\"].apply(lambda x: parse(x))"
   ]
  },
  {
   "cell_type": "code",
   "execution_count": 118,
   "id": "3357abbd",
   "metadata": {},
   "outputs": [
    {
     "data": {
      "text/html": [
       "<div>\n",
       "<style scoped>\n",
       "    .dataframe tbody tr th:only-of-type {\n",
       "        vertical-align: middle;\n",
       "    }\n",
       "\n",
       "    .dataframe tbody tr th {\n",
       "        vertical-align: top;\n",
       "    }\n",
       "\n",
       "    .dataframe thead th {\n",
       "        text-align: right;\n",
       "    }\n",
       "</style>\n",
       "<table border=\"1\" class=\"dataframe\">\n",
       "  <thead>\n",
       "    <tr style=\"text-align: right;\">\n",
       "      <th></th>\n",
       "      <th>date</th>\n",
       "      <th>id</th>\n",
       "      <th>text</th>\n",
       "      <th>rep_count</th>\n",
       "      <th>likes</th>\n",
       "      <th>com_count</th>\n",
       "      <th>attach</th>\n",
       "      <th>attachs_count</th>\n",
       "    </tr>\n",
       "  </thead>\n",
       "  <tbody>\n",
       "    <tr>\n",
       "      <th>0</th>\n",
       "      <td>2021-05-06 04:42:03</td>\n",
       "      <td>2006</td>\n",
       "      <td>Москвичи, для вас. ЦОДД ОБЪЯВИЛ СБОР ПРЕДЛОЖЕН...</td>\n",
       "      <td>0</td>\n",
       "      <td>0</td>\n",
       "      <td>0</td>\n",
       "      <td>[]</td>\n",
       "      <td>0</td>\n",
       "    </tr>\n",
       "    <tr>\n",
       "      <th>1</th>\n",
       "      <td>2021-03-14 21:46:13</td>\n",
       "      <td>2004</td>\n",
       "      <td>NaN</td>\n",
       "      <td>0</td>\n",
       "      <td>1</td>\n",
       "      <td>0</td>\n",
       "      <td>[]</td>\n",
       "      <td>0</td>\n",
       "    </tr>\n",
       "    <tr>\n",
       "      <th>2</th>\n",
       "      <td>2021-01-06 19:50:12</td>\n",
       "      <td>1999</td>\n",
       "      <td>На Енисее как живут.</td>\n",
       "      <td>0</td>\n",
       "      <td>3</td>\n",
       "      <td>0</td>\n",
       "      <td>[{'link': 'https://youtu.be/MN-6UU-QCAo'}]</td>\n",
       "      <td>1</td>\n",
       "    </tr>\n",
       "    <tr>\n",
       "      <th>3</th>\n",
       "      <td>2020-12-11 17:28:13</td>\n",
       "      <td>1997</td>\n",
       "      <td>Вот так работаем над композицией!</td>\n",
       "      <td>0</td>\n",
       "      <td>5</td>\n",
       "      <td>0</td>\n",
       "      <td>[]</td>\n",
       "      <td>0</td>\n",
       "    </tr>\n",
       "    <tr>\n",
       "      <th>4</th>\n",
       "      <td>2020-12-01 23:55:36</td>\n",
       "      <td>1996</td>\n",
       "      <td>NaN</td>\n",
       "      <td>0</td>\n",
       "      <td>0</td>\n",
       "      <td>0</td>\n",
       "      <td>[]</td>\n",
       "      <td>0</td>\n",
       "    </tr>\n",
       "  </tbody>\n",
       "</table>\n",
       "</div>"
      ],
      "text/plain": [
       "                 date    id  \\\n",
       "0 2021-05-06 04:42:03  2006   \n",
       "1 2021-03-14 21:46:13  2004   \n",
       "2 2021-01-06 19:50:12  1999   \n",
       "3 2020-12-11 17:28:13  1997   \n",
       "4 2020-12-01 23:55:36  1996   \n",
       "\n",
       "                                                text  rep_count  likes  \\\n",
       "0  Москвичи, для вас. ЦОДД ОБЪЯВИЛ СБОР ПРЕДЛОЖЕН...          0      0   \n",
       "1                                                NaN          0      1   \n",
       "2                               На Енисее как живут.          0      3   \n",
       "3                  Вот так работаем над композицией!          0      5   \n",
       "4                                                NaN          0      0   \n",
       "\n",
       "   com_count                                      attach  attachs_count  \n",
       "0          0                                          []              0  \n",
       "1          0                                          []              0  \n",
       "2          0  [{'link': 'https://youtu.be/MN-6UU-QCAo'}]              1  \n",
       "3          0                                          []              0  \n",
       "4          0                                          []              0  "
      ]
     },
     "execution_count": 118,
     "metadata": {},
     "output_type": "execute_result"
    }
   ],
   "source": [
    "df.head()"
   ]
  },
  {
   "cell_type": "code",
   "execution_count": 119,
   "id": "2837cac2",
   "metadata": {},
   "outputs": [
    {
     "name": "stdout",
     "output_type": "stream",
     "text": [
      "<class 'pandas.core.frame.DataFrame'>\n",
      "RangeIndex: 800 entries, 0 to 799\n",
      "Data columns (total 8 columns):\n",
      " #   Column         Non-Null Count  Dtype         \n",
      "---  ------         --------------  -----         \n",
      " 0   date           800 non-null    datetime64[ns]\n",
      " 1   id             800 non-null    int64         \n",
      " 2   text           446 non-null    object        \n",
      " 3   rep_count      800 non-null    int64         \n",
      " 4   likes          800 non-null    int64         \n",
      " 5   com_count      800 non-null    int64         \n",
      " 6   attach         800 non-null    object        \n",
      " 7   attachs_count  800 non-null    int64         \n",
      "dtypes: datetime64[ns](1), int64(5), object(2)\n",
      "memory usage: 50.1+ KB\n"
     ]
    }
   ],
   "source": [
    "df.info()"
   ]
  },
  {
   "cell_type": "markdown",
   "id": "f76ef6d4",
   "metadata": {},
   "source": [
    "Then we split column date for grouping values. "
   ]
  },
  {
   "cell_type": "code",
   "execution_count": 120,
   "id": "033776b5",
   "metadata": {},
   "outputs": [],
   "source": [
    "df[\"year\"]=df['date'].apply(lambda x: x.year)\n",
    "df[\"month\"]=df['date'].apply(lambda x: x.month)\n",
    "df[\"day\"]=df['date'].apply(lambda x: x.day)\n",
    "df[\"week_day\"]=df['date'].apply(lambda x: x.weekday())\n",
    "df[\"hour\"]=df['date'].apply(lambda x: x.hour)"
   ]
  },
  {
   "cell_type": "code",
   "execution_count": 121,
   "id": "a900012f",
   "metadata": {},
   "outputs": [
    {
     "data": {
      "text/html": [
       "<div>\n",
       "<style scoped>\n",
       "    .dataframe tbody tr th:only-of-type {\n",
       "        vertical-align: middle;\n",
       "    }\n",
       "\n",
       "    .dataframe tbody tr th {\n",
       "        vertical-align: top;\n",
       "    }\n",
       "\n",
       "    .dataframe thead th {\n",
       "        text-align: right;\n",
       "    }\n",
       "</style>\n",
       "<table border=\"1\" class=\"dataframe\">\n",
       "  <thead>\n",
       "    <tr style=\"text-align: right;\">\n",
       "      <th></th>\n",
       "      <th>date</th>\n",
       "      <th>id</th>\n",
       "      <th>text</th>\n",
       "      <th>rep_count</th>\n",
       "      <th>likes</th>\n",
       "      <th>com_count</th>\n",
       "      <th>attach</th>\n",
       "      <th>attachs_count</th>\n",
       "      <th>year</th>\n",
       "      <th>month</th>\n",
       "      <th>day</th>\n",
       "      <th>week_day</th>\n",
       "      <th>hour</th>\n",
       "    </tr>\n",
       "  </thead>\n",
       "  <tbody>\n",
       "    <tr>\n",
       "      <th>0</th>\n",
       "      <td>2021-05-06 04:42:03</td>\n",
       "      <td>2006</td>\n",
       "      <td>Москвичи, для вас. ЦОДД ОБЪЯВИЛ СБОР ПРЕДЛОЖЕН...</td>\n",
       "      <td>0</td>\n",
       "      <td>0</td>\n",
       "      <td>0</td>\n",
       "      <td>[]</td>\n",
       "      <td>0</td>\n",
       "      <td>2021</td>\n",
       "      <td>5</td>\n",
       "      <td>6</td>\n",
       "      <td>3</td>\n",
       "      <td>4</td>\n",
       "    </tr>\n",
       "    <tr>\n",
       "      <th>1</th>\n",
       "      <td>2021-03-14 21:46:13</td>\n",
       "      <td>2004</td>\n",
       "      <td>NaN</td>\n",
       "      <td>0</td>\n",
       "      <td>1</td>\n",
       "      <td>0</td>\n",
       "      <td>[]</td>\n",
       "      <td>0</td>\n",
       "      <td>2021</td>\n",
       "      <td>3</td>\n",
       "      <td>14</td>\n",
       "      <td>6</td>\n",
       "      <td>21</td>\n",
       "    </tr>\n",
       "    <tr>\n",
       "      <th>2</th>\n",
       "      <td>2021-01-06 19:50:12</td>\n",
       "      <td>1999</td>\n",
       "      <td>На Енисее как живут.</td>\n",
       "      <td>0</td>\n",
       "      <td>3</td>\n",
       "      <td>0</td>\n",
       "      <td>[{'link': 'https://youtu.be/MN-6UU-QCAo'}]</td>\n",
       "      <td>1</td>\n",
       "      <td>2021</td>\n",
       "      <td>1</td>\n",
       "      <td>6</td>\n",
       "      <td>2</td>\n",
       "      <td>19</td>\n",
       "    </tr>\n",
       "    <tr>\n",
       "      <th>3</th>\n",
       "      <td>2020-12-11 17:28:13</td>\n",
       "      <td>1997</td>\n",
       "      <td>Вот так работаем над композицией!</td>\n",
       "      <td>0</td>\n",
       "      <td>5</td>\n",
       "      <td>0</td>\n",
       "      <td>[]</td>\n",
       "      <td>0</td>\n",
       "      <td>2020</td>\n",
       "      <td>12</td>\n",
       "      <td>11</td>\n",
       "      <td>4</td>\n",
       "      <td>17</td>\n",
       "    </tr>\n",
       "    <tr>\n",
       "      <th>4</th>\n",
       "      <td>2020-12-01 23:55:36</td>\n",
       "      <td>1996</td>\n",
       "      <td>NaN</td>\n",
       "      <td>0</td>\n",
       "      <td>0</td>\n",
       "      <td>0</td>\n",
       "      <td>[]</td>\n",
       "      <td>0</td>\n",
       "      <td>2020</td>\n",
       "      <td>12</td>\n",
       "      <td>1</td>\n",
       "      <td>1</td>\n",
       "      <td>23</td>\n",
       "    </tr>\n",
       "  </tbody>\n",
       "</table>\n",
       "</div>"
      ],
      "text/plain": [
       "                 date    id  \\\n",
       "0 2021-05-06 04:42:03  2006   \n",
       "1 2021-03-14 21:46:13  2004   \n",
       "2 2021-01-06 19:50:12  1999   \n",
       "3 2020-12-11 17:28:13  1997   \n",
       "4 2020-12-01 23:55:36  1996   \n",
       "\n",
       "                                                text  rep_count  likes  \\\n",
       "0  Москвичи, для вас. ЦОДД ОБЪЯВИЛ СБОР ПРЕДЛОЖЕН...          0      0   \n",
       "1                                                NaN          0      1   \n",
       "2                               На Енисее как живут.          0      3   \n",
       "3                  Вот так работаем над композицией!          0      5   \n",
       "4                                                NaN          0      0   \n",
       "\n",
       "   com_count                                      attach  attachs_count  year  \\\n",
       "0          0                                          []              0  2021   \n",
       "1          0                                          []              0  2021   \n",
       "2          0  [{'link': 'https://youtu.be/MN-6UU-QCAo'}]              1  2021   \n",
       "3          0                                          []              0  2020   \n",
       "4          0                                          []              0  2020   \n",
       "\n",
       "   month  day  week_day  hour  \n",
       "0      5    6         3     4  \n",
       "1      3   14         6    21  \n",
       "2      1    6         2    19  \n",
       "3     12   11         4    17  \n",
       "4     12    1         1    23  "
      ]
     },
     "execution_count": 121,
     "metadata": {},
     "output_type": "execute_result"
    }
   ],
   "source": [
    "df.head()"
   ]
  },
  {
   "cell_type": "markdown",
   "id": "ab9d6dc6",
   "metadata": {},
   "source": [
    "**Now you can create Pivot tables like**: (year/month/week day etc.)-mean(number of likes/comments/reposts etc.)-count of items"
   ]
  },
  {
   "cell_type": "code",
   "execution_count": 122,
   "id": "73e1def6",
   "metadata": {},
   "outputs": [],
   "source": [
    "year_likes = pd.pivot_table(df, index=[\"year\"], values=[\"likes\"], aggfunc=[np.mean, len])\n",
    "year_likes.columns = ['mean of likes per post', 'num of posts']\n",
    "    \n",
    "month_likes = pd.pivot_table(df, index=[\"month\"], values=[\"likes\"], aggfunc=[np.mean, len])\n",
    "month_likes.columns = ['mean of likes per post', 'num of posts']\n",
    "\n",
    "weekday_likes = pd.pivot_table(df, index=[\"week_day\"], values=[\"likes\"], aggfunc=[np.mean, len])\n",
    "weekday_likes.columns = ['mean of likes per post', 'num of posts']\n",
    "\n",
    "hour_likes = pd.pivot_table(df, index=[\"hour\"], values=[\"likes\"], aggfunc=[np.mean, len])\n",
    "hour_likes.columns = ['mean of likes per post', 'num of posts']"
   ]
  },
  {
   "cell_type": "code",
   "execution_count": 123,
   "id": "5a8df415",
   "metadata": {},
   "outputs": [
    {
     "data": {
      "text/plain": [
       "[<matplotlib.lines.Line2D at 0x7f66a7507520>,\n",
       " <matplotlib.lines.Line2D at 0x7f66a7507550>]"
      ]
     },
     "execution_count": 123,
     "metadata": {},
     "output_type": "execute_result"
    },
    {
     "data": {
      "image/png": "[encoded data removed]",
      "text/plain": [
       "<Figure size 432x288 with 1 Axes>"
      ]
     },
     "metadata": {
      "needs_background": "light"
     },
     "output_type": "display_data"
    }
   ],
   "source": [
    "plt.plot(year_likes, marker = 'o')"
   ]
  },
  {
   "cell_type": "code",
   "execution_count": 124,
   "id": "3a27c80c",
   "metadata": {},
   "outputs": [
    {
     "data": {
      "text/plain": [
       "[<matplotlib.lines.Line2D at 0x7f66a7469610>,\n",
       " <matplotlib.lines.Line2D at 0x7f66a7469640>]"
      ]
     },
     "execution_count": 124,
     "metadata": {},
     "output_type": "execute_result"
    },
    {
     "data": {
      "image/png": "[encoded data removed]",
      "text/plain": [
       "<Figure size 432x288 with 1 Axes>"
      ]
     },
     "metadata": {
      "needs_background": "light"
     },
     "output_type": "display_data"
    }
   ],
   "source": [
    "plt.plot(month_likes, marker = 'o')"
   ]
  },
  {
   "cell_type": "code",
   "execution_count": 125,
   "id": "579dfea3",
   "metadata": {},
   "outputs": [
    {
     "data": {
      "text/plain": [
       "[<matplotlib.lines.Line2D at 0x7f66a73ce040>,\n",
       " <matplotlib.lines.Line2D at 0x7f66a73ce070>]"
      ]
     },
     "execution_count": 125,
     "metadata": {},
     "output_type": "execute_result"
    },
    {
     "data": {
      "image/png": "[encoded data removed]",
      "text/plain": [
       "<Figure size 432x288 with 1 Axes>"
      ]
     },
     "metadata": {
      "needs_background": "light"
     },
     "output_type": "display_data"
    }
   ],
   "source": [
    "plt.plot(weekday_likes, marker = 'o')"
   ]
  },
  {
   "cell_type": "code",
   "execution_count": 126,
   "id": "e1ea1303",
   "metadata": {},
   "outputs": [
    {
     "data": {
      "text/plain": [
       "[<matplotlib.lines.Line2D at 0x7f66a73c8130>,\n",
       " <matplotlib.lines.Line2D at 0x7f66a73c8160>]"
      ]
     },
     "execution_count": 126,
     "metadata": {},
     "output_type": "execute_result"
    },
    {
     "data": {
      "image/png": "[encoded data removed]",
      "text/plain": [
       "<Figure size 432x288 with 1 Axes>"
      ]
     },
     "metadata": {
      "needs_background": "light"
     },
     "output_type": "display_data"
    }
   ],
   "source": [
    "plt.plot(hour_likes, marker = 'o')"
   ]
  },
  {
   "cell_type": "code",
   "execution_count": null,
   "id": "3727d34f",
   "metadata": {},
   "outputs": [],
   "source": []
  }
 ],
 "metadata": {
  "kernelspec": {
   "display_name": "Python 3",
   "language": "python",
   "name": "python3"
  },
  "language_info": {
   "codemirror_mode": {
    "name": "ipython",
    "version": 3
   },
   "file_extension": ".py",
   "mimetype": "text/x-python",
   "name": "python",
   "nbconvert_exporter": "python",
   "pygments_lexer": "ipython3",
   "version": "3.8.5"
  }
 },
 "nbformat": 4,
 "nbformat_minor": 5
}
