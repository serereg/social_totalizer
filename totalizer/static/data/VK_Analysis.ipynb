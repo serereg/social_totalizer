{
 "cells": [
  {
   "cell_type": "markdown",
   "id": "fdb2d933",
   "metadata": {},
   "source": [
    "# Analisys of VK dataframes"
   ]
  },
  {
   "cell_type": "markdown",
   "id": "54cd9c49",
   "metadata": {},
   "source": [
    "## TODO: seaborn should be used"
   ]
  },
  {
   "cell_type": "code",
   "execution_count": 235,
   "id": "cd2824f8",
   "metadata": {},
   "outputs": [],
   "source": [
    "import json\n",
    "import pandas as pd\n",
    "import matplotlib.pyplot as plt\n",
    "import numpy as np\n",
    "from dateutil.parser import parse"
   ]
  },
  {
   "cell_type": "markdown",
   "id": "da01eeef",
   "metadata": {},
   "source": [
    "Values in csv file are stored in json format. That is done to simplify decoding objects (i.e. dates, some infos in attach column)."
   ]
  },
  {
   "cell_type": "code",
   "execution_count": 236,
   "id": "098680f3",
   "metadata": {},
   "outputs": [],
   "source": [
    "df = pd.read_csv(\"dataframe.csv\")\n",
    "df[\"date\"] = df[\"date\"].apply(lambda x: parse(x))"
   ]
  },
  {
   "cell_type": "code",
   "execution_count": 237,
   "id": "3357abbd",
   "metadata": {},
   "outputs": [
    {
     "data": {
      "text/html": [
       "<div>\n",
       "<style scoped>\n",
       "    .dataframe tbody tr th:only-of-type {\n",
       "        vertical-align: middle;\n",
       "    }\n",
       "\n",
       "    .dataframe tbody tr th {\n",
       "        vertical-align: top;\n",
       "    }\n",
       "\n",
       "    .dataframe thead th {\n",
       "        text-align: right;\n",
       "    }\n",
       "</style>\n",
       "<table border=\"1\" class=\"dataframe\">\n",
       "  <thead>\n",
       "    <tr style=\"text-align: right;\">\n",
       "      <th></th>\n",
       "      <th>date</th>\n",
       "      <th>id</th>\n",
       "      <th>text</th>\n",
       "      <th>rep_count</th>\n",
       "      <th>likes</th>\n",
       "      <th>com_count</th>\n",
       "      <th>attach</th>\n",
       "      <th>attachs_count</th>\n",
       "    </tr>\n",
       "  </thead>\n",
       "  <tbody>\n",
       "    <tr>\n",
       "      <th>0</th>\n",
       "      <td>2021-06-16 13:20:55</td>\n",
       "      <td>3346</td>\n",
       "      <td>NaN</td>\n",
       "      <td>0</td>\n",
       "      <td>1</td>\n",
       "      <td>0</td>\n",
       "      <td>[{'photo': {'id': 457243133, 'owner_id': -1757...</td>\n",
       "      <td>2</td>\n",
       "    </tr>\n",
       "    <tr>\n",
       "      <th>1</th>\n",
       "      <td>2021-06-30 09:00:00</td>\n",
       "      <td>3392</td>\n",
       "      <td>Выполнены работы по замене участка стояка ГВС ...</td>\n",
       "      <td>0</td>\n",
       "      <td>0</td>\n",
       "      <td>0</td>\n",
       "      <td>[{'photo': {'id': 457243058, 'owner_id': -1757...</td>\n",
       "      <td>3</td>\n",
       "    </tr>\n",
       "    <tr>\n",
       "      <th>2</th>\n",
       "      <td>2021-06-30 08:00:00</td>\n",
       "      <td>3391</td>\n",
       "      <td>Выполнены работы по замене участка стояка ГВС ...</td>\n",
       "      <td>0</td>\n",
       "      <td>0</td>\n",
       "      <td>0</td>\n",
       "      <td>[{'photo': {'id': 457243056, 'owner_id': -1757...</td>\n",
       "      <td>2</td>\n",
       "    </tr>\n",
       "    <tr>\n",
       "      <th>3</th>\n",
       "      <td>2021-06-30 07:00:00</td>\n",
       "      <td>3390</td>\n",
       "      <td>Уважаемые жители! \\n \\nООО «ЖКС Курортного рай...</td>\n",
       "      <td>0</td>\n",
       "      <td>0</td>\n",
       "      <td>0</td>\n",
       "      <td>[{'photo': {'id': 457242978, 'owner_id': -1757...</td>\n",
       "      <td>1</td>\n",
       "    </tr>\n",
       "    <tr>\n",
       "      <th>4</th>\n",
       "      <td>2021-06-29 14:35:17</td>\n",
       "      <td>3389</td>\n",
       "      <td>☎Количество обращений граждан в аварийно-диспе...</td>\n",
       "      <td>0</td>\n",
       "      <td>0</td>\n",
       "      <td>0</td>\n",
       "      <td>[{'photo': {'id': 457243139, 'owner_id': -1757...</td>\n",
       "      <td>1</td>\n",
       "    </tr>\n",
       "  </tbody>\n",
       "</table>\n",
       "</div>"
      ],
      "text/plain": [
       "                 date    id  \\\n",
       "0 2021-06-16 13:20:55  3346   \n",
       "1 2021-06-30 09:00:00  3392   \n",
       "2 2021-06-30 08:00:00  3391   \n",
       "3 2021-06-30 07:00:00  3390   \n",
       "4 2021-06-29 14:35:17  3389   \n",
       "\n",
       "                                                text  rep_count  likes  \\\n",
       "0                                                NaN          0      1   \n",
       "1  Выполнены работы по замене участка стояка ГВС ...          0      0   \n",
       "2  Выполнены работы по замене участка стояка ГВС ...          0      0   \n",
       "3  Уважаемые жители! \\n \\nООО «ЖКС Курортного рай...          0      0   \n",
       "4  ☎Количество обращений граждан в аварийно-диспе...          0      0   \n",
       "\n",
       "   com_count                                             attach  attachs_count  \n",
       "0          0  [{'photo': {'id': 457243133, 'owner_id': -1757...              2  \n",
       "1          0  [{'photo': {'id': 457243058, 'owner_id': -1757...              3  \n",
       "2          0  [{'photo': {'id': 457243056, 'owner_id': -1757...              2  \n",
       "3          0  [{'photo': {'id': 457242978, 'owner_id': -1757...              1  \n",
       "4          0  [{'photo': {'id': 457243139, 'owner_id': -1757...              1  "
      ]
     },
     "execution_count": 237,
     "metadata": {},
     "output_type": "execute_result"
    }
   ],
   "source": [
    "df.head()"
   ]
  },
  {
   "cell_type": "code",
   "execution_count": 238,
   "id": "2837cac2",
   "metadata": {},
   "outputs": [
    {
     "name": "stdout",
     "output_type": "stream",
     "text": [
      "<class 'pandas.core.frame.DataFrame'>\n",
      "RangeIndex: 1771 entries, 0 to 1770\n",
      "Data columns (total 8 columns):\n",
      " #   Column         Non-Null Count  Dtype         \n",
      "---  ------         --------------  -----         \n",
      " 0   date           1771 non-null   datetime64[ns]\n",
      " 1   id             1771 non-null   int64         \n",
      " 2   text           1524 non-null   object        \n",
      " 3   rep_count      1771 non-null   int64         \n",
      " 4   likes          1771 non-null   int64         \n",
      " 5   com_count      1771 non-null   int64         \n",
      " 6   attach         1771 non-null   object        \n",
      " 7   attachs_count  1771 non-null   int64         \n",
      "dtypes: datetime64[ns](1), int64(5), object(2)\n",
      "memory usage: 110.8+ KB\n"
     ]
    }
   ],
   "source": [
    "df.info()"
   ]
  },
  {
   "cell_type": "markdown",
   "id": "f76ef6d4",
   "metadata": {},
   "source": [
    "Then we split column date for grouping values. "
   ]
  },
  {
   "cell_type": "code",
   "execution_count": 239,
   "id": "033776b5",
   "metadata": {},
   "outputs": [],
   "source": [
    "df[\"year\"]=df['date'].apply(lambda x: x.year)\n",
    "df[\"month\"]=df['date'].apply(lambda x: x.month)\n",
    "df[\"day\"]=df['date'].apply(lambda x: x.day)\n",
    "df[\"week_day\"]=df['date'].apply(lambda x: x.weekday())\n",
    "df[\"hour\"]=df['date'].apply(lambda x: x.hour)"
   ]
  },
  {
   "cell_type": "code",
   "execution_count": 240,
   "id": "a900012f",
   "metadata": {},
   "outputs": [
    {
     "data": {
      "text/html": [
       "<div>\n",
       "<style scoped>\n",
       "    .dataframe tbody tr th:only-of-type {\n",
       "        vertical-align: middle;\n",
       "    }\n",
       "\n",
       "    .dataframe tbody tr th {\n",
       "        vertical-align: top;\n",
       "    }\n",
       "\n",
       "    .dataframe thead th {\n",
       "        text-align: right;\n",
       "    }\n",
       "</style>\n",
       "<table border=\"1\" class=\"dataframe\">\n",
       "  <thead>\n",
       "    <tr style=\"text-align: right;\">\n",
       "      <th></th>\n",
       "      <th>date</th>\n",
       "      <th>id</th>\n",
       "      <th>text</th>\n",
       "      <th>rep_count</th>\n",
       "      <th>likes</th>\n",
       "      <th>com_count</th>\n",
       "      <th>attach</th>\n",
       "      <th>attachs_count</th>\n",
       "      <th>year</th>\n",
       "      <th>month</th>\n",
       "      <th>day</th>\n",
       "      <th>week_day</th>\n",
       "      <th>hour</th>\n",
       "    </tr>\n",
       "  </thead>\n",
       "  <tbody>\n",
       "    <tr>\n",
       "      <th>0</th>\n",
       "      <td>2021-06-16 13:20:55</td>\n",
       "      <td>3346</td>\n",
       "      <td>NaN</td>\n",
       "      <td>0</td>\n",
       "      <td>1</td>\n",
       "      <td>0</td>\n",
       "      <td>[{'photo': {'id': 457243133, 'owner_id': -1757...</td>\n",
       "      <td>2</td>\n",
       "      <td>2021</td>\n",
       "      <td>6</td>\n",
       "      <td>16</td>\n",
       "      <td>2</td>\n",
       "      <td>13</td>\n",
       "    </tr>\n",
       "    <tr>\n",
       "      <th>1</th>\n",
       "      <td>2021-06-30 09:00:00</td>\n",
       "      <td>3392</td>\n",
       "      <td>Выполнены работы по замене участка стояка ГВС ...</td>\n",
       "      <td>0</td>\n",
       "      <td>0</td>\n",
       "      <td>0</td>\n",
       "      <td>[{'photo': {'id': 457243058, 'owner_id': -1757...</td>\n",
       "      <td>3</td>\n",
       "      <td>2021</td>\n",
       "      <td>6</td>\n",
       "      <td>30</td>\n",
       "      <td>2</td>\n",
       "      <td>9</td>\n",
       "    </tr>\n",
       "    <tr>\n",
       "      <th>2</th>\n",
       "      <td>2021-06-30 08:00:00</td>\n",
       "      <td>3391</td>\n",
       "      <td>Выполнены работы по замене участка стояка ГВС ...</td>\n",
       "      <td>0</td>\n",
       "      <td>0</td>\n",
       "      <td>0</td>\n",
       "      <td>[{'photo': {'id': 457243056, 'owner_id': -1757...</td>\n",
       "      <td>2</td>\n",
       "      <td>2021</td>\n",
       "      <td>6</td>\n",
       "      <td>30</td>\n",
       "      <td>2</td>\n",
       "      <td>8</td>\n",
       "    </tr>\n",
       "    <tr>\n",
       "      <th>3</th>\n",
       "      <td>2021-06-30 07:00:00</td>\n",
       "      <td>3390</td>\n",
       "      <td>Уважаемые жители! \\n \\nООО «ЖКС Курортного рай...</td>\n",
       "      <td>0</td>\n",
       "      <td>0</td>\n",
       "      <td>0</td>\n",
       "      <td>[{'photo': {'id': 457242978, 'owner_id': -1757...</td>\n",
       "      <td>1</td>\n",
       "      <td>2021</td>\n",
       "      <td>6</td>\n",
       "      <td>30</td>\n",
       "      <td>2</td>\n",
       "      <td>7</td>\n",
       "    </tr>\n",
       "    <tr>\n",
       "      <th>4</th>\n",
       "      <td>2021-06-29 14:35:17</td>\n",
       "      <td>3389</td>\n",
       "      <td>☎Количество обращений граждан в аварийно-диспе...</td>\n",
       "      <td>0</td>\n",
       "      <td>0</td>\n",
       "      <td>0</td>\n",
       "      <td>[{'photo': {'id': 457243139, 'owner_id': -1757...</td>\n",
       "      <td>1</td>\n",
       "      <td>2021</td>\n",
       "      <td>6</td>\n",
       "      <td>29</td>\n",
       "      <td>1</td>\n",
       "      <td>14</td>\n",
       "    </tr>\n",
       "  </tbody>\n",
       "</table>\n",
       "</div>"
      ],
      "text/plain": [
       "                 date    id  \\\n",
       "0 2021-06-16 13:20:55  3346   \n",
       "1 2021-06-30 09:00:00  3392   \n",
       "2 2021-06-30 08:00:00  3391   \n",
       "3 2021-06-30 07:00:00  3390   \n",
       "4 2021-06-29 14:35:17  3389   \n",
       "\n",
       "                                                text  rep_count  likes  \\\n",
       "0                                                NaN          0      1   \n",
       "1  Выполнены работы по замене участка стояка ГВС ...          0      0   \n",
       "2  Выполнены работы по замене участка стояка ГВС ...          0      0   \n",
       "3  Уважаемые жители! \\n \\nООО «ЖКС Курортного рай...          0      0   \n",
       "4  ☎Количество обращений граждан в аварийно-диспе...          0      0   \n",
       "\n",
       "   com_count                                             attach  \\\n",
       "0          0  [{'photo': {'id': 457243133, 'owner_id': -1757...   \n",
       "1          0  [{'photo': {'id': 457243058, 'owner_id': -1757...   \n",
       "2          0  [{'photo': {'id': 457243056, 'owner_id': -1757...   \n",
       "3          0  [{'photo': {'id': 457242978, 'owner_id': -1757...   \n",
       "4          0  [{'photo': {'id': 457243139, 'owner_id': -1757...   \n",
       "\n",
       "   attachs_count  year  month  day  week_day  hour  \n",
       "0              2  2021      6   16         2    13  \n",
       "1              3  2021      6   30         2     9  \n",
       "2              2  2021      6   30         2     8  \n",
       "3              1  2021      6   30         2     7  \n",
       "4              1  2021      6   29         1    14  "
      ]
     },
     "execution_count": 240,
     "metadata": {},
     "output_type": "execute_result"
    }
   ],
   "source": [
    "df.head()"
   ]
  },
  {
   "cell_type": "markdown",
   "id": "ab9d6dc6",
   "metadata": {},
   "source": [
    "**Now you can create Pivot tables like**: (year/month/week day etc.)-mean(number of likes/comments/reposts etc.)-count of items"
   ]
  },
  {
   "cell_type": "code",
   "execution_count": 241,
   "id": "73e1def6",
   "metadata": {},
   "outputs": [],
   "source": [
    "year_likes = pd.pivot_table(df, index=[\"year\"], values=[\"likes\"], aggfunc=[np.mean, len])\n",
    "year_likes.columns = ['mean of likes per post', 'num of posts']\n",
    "    \n",
    "month_likes = pd.pivot_table(df, index=[\"month\"], values=[\"likes\"], aggfunc=[np.mean, len])\n",
    "month_likes.columns = ['mean of likes per post', 'num of posts']\n",
    "\n",
    "weekday_likes = pd.pivot_table(df, index=[\"week_day\"], values=[\"likes\"], aggfunc=[np.mean, len])\n",
    "weekday_likes.columns = ['mean of likes per post', 'num of posts']\n",
    "\n",
    "hour_likes = pd.pivot_table(df, index=[\"hour\"], values=[\"likes\"], aggfunc=[np.mean, len])\n",
    "hour_likes.columns = ['mean of likes per post', 'num of posts']"
   ]
  },
  {
   "cell_type": "code",
   "execution_count": 242,
   "id": "eeb78a2e",
   "metadata": {},
   "outputs": [],
   "source": [
    "def plot_vk(params1, params2):\n",
    "    fig, (ax1, ax2) = plt.subplots(2)\n",
    "    fig.suptitle('Vertically stacked subplots')\n",
    "    ax1.plot(params1, 'tab:orange', marker = 'o')\n",
    "    ax2.plot(params2, 'tab:green', marker = 'o')"
   ]
  },
  {
   "cell_type": "code",
   "execution_count": 243,
   "id": "5a8df415",
   "metadata": {},
   "outputs": [
    {
     "data": {
      "image/png": "[encoded data removed]",
      "text/plain": [
       "<Figure size 432x288 with 2 Axes>"
      ]
     },
     "metadata": {
      "needs_background": "light"
     },
     "output_type": "display_data"
    }
   ],
   "source": [
    "data_for_plot1 = year_likes[\"mean of likes per post\"]\n",
    "data_for_plot2 = year_likes[\"num of posts\"]\n",
    "\n",
    "plot_vk(data_for_plot1, data_for_plot2)"
   ]
  },
  {
   "cell_type": "code",
   "execution_count": 244,
   "id": "3a27c80c",
   "metadata": {},
   "outputs": [
    {
     "data": {
      "image/png": "[encoded data removed]",
      "text/plain": [
       "<Figure size 432x288 with 2 Axes>"
      ]
     },
     "metadata": {
      "needs_background": "light"
     },
     "output_type": "display_data"
    }
   ],
   "source": [
    "data_for_plot1 = month_likes[\"mean of likes per post\"]\n",
    "data_for_plot2 = month_likes[\"num of posts\"]\n",
    "\n",
    "plot_vk(data_for_plot1, data_for_plot2)"
   ]
  },
  {
   "cell_type": "code",
   "execution_count": 245,
   "id": "579dfea3",
   "metadata": {},
   "outputs": [
    {
     "data": {
      "image/png": "[encoded data removed]",
      "text/plain": [
       "<Figure size 432x288 with 2 Axes>"
      ]
     },
     "metadata": {
      "needs_background": "light"
     },
     "output_type": "display_data"
    }
   ],
   "source": [
    "data_for_plot1 = weekday_likes[\"mean of likes per post\"]\n",
    "data_for_plot2 = weekday_likes[\"num of posts\"]\n",
    "\n",
    "plot_vk(data_for_plot1, data_for_plot2)"
   ]
  },
  {
   "cell_type": "code",
   "execution_count": 246,
   "id": "4925061b",
   "metadata": {},
   "outputs": [
    {
     "data": {
      "image/png": "[encoded data removed]",
      "text/plain": [
       "<Figure size 432x288 with 2 Axes>"
      ]
     },
     "metadata": {
      "needs_background": "light"
     },
     "output_type": "display_data"
    }
   ],
   "source": [
    "data_for_plot1 = hour_likes[\"mean of likes per post\"]\n",
    "data_for_plot2 = hour_likes[\"num of posts\"]\n",
    "\n",
    "plot_vk(data_for_plot1, data_for_plot2)"
   ]
  },
  {
   "cell_type": "markdown",
   "id": "1b36fb98",
   "metadata": {},
   "source": [
    "## TODO: seaborn should be used"
   ]
  },
  {
   "cell_type": "code",
   "execution_count": null,
   "id": "fd6560c0",
   "metadata": {},
   "outputs": [],
   "source": []
  }
 ],
 "metadata": {
  "kernelspec": {
   "display_name": "Python 3",
   "language": "python",
   "name": "python3"
  },
  "language_info": {
   "codemirror_mode": {
    "name": "ipython",
    "version": 3
   },
   "file_extension": ".py",
   "mimetype": "text/x-python",
   "name": "python",
   "nbconvert_exporter": "python",
   "pygments_lexer": "ipython3",
   "version": "3.8.5"
  }
 },
 "nbformat": 4,
 "nbformat_minor": 5
}
